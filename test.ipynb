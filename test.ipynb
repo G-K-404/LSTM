{
 "cells": [
  {
   "cell_type": "code",
   "execution_count": null,
   "id": "0e4cd11c",
   "metadata": {},
   "outputs": [],
   "source": [
    "import matplotlib.pyplot as plt\n",
    "import matplotlib.image as mpimg\n",
    "\n",
    "referenceImage = mpimg.imread('image.png')\n",
    "\n",
    "plt.imshow(referenceImage)\n",
    "plt.axis('off') \n",
    "plt.show()\n"
   ]
  }
 ],
 "metadata": {
  "kernelspec": {
   "display_name": "py39_knime",
   "language": "python",
   "name": "python3"
  },
  "language_info": {
   "name": "python",
   "version": "3.9.19"
  }
 },
 "nbformat": 4,
 "nbformat_minor": 5
}
